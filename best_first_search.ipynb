{
 "cells": [
  {
   "cell_type": "markdown",
   "id": "31a7a370",
   "metadata": {},
   "source": [
    "# Best-First Search"
   ]
  },
  {
   "cell_type": "code",
   "execution_count": 12,
   "id": "c64b9319",
   "metadata": {},
   "outputs": [
    {
     "name": "stdout",
     "output_type": "stream",
     "text": [
      "Best-First Search:  ['S', 'B', 'F', 'G']\n"
     ]
    }
   ],
   "source": [
    "import heapq\n",
    "\n",
    "def best_first_search(graph, start, goal, huristic):\n",
    "\n",
    "    # Priority queue to store huristics and node\n",
    "    open_list = []\n",
    "    heapq.heappush(open_list, (huristic[start],start))\n",
    "\n",
    "    # Dictionary to keep track of visited nodes and their parents\n",
    "    close_list = []\n",
    "\n",
    "    while open_list:\n",
    "        # Get the node with the lowest heuristic value\n",
    "        current_huristic, current_node = heapq.heappop(open_list)\n",
    "        close_list.append(current_node)\n",
    "\n",
    "        # Check is we reaced the goal\n",
    "        if(current_node == goal):\n",
    "            break\n",
    "\n",
    "        # Explore neighbors\n",
    "\n",
    "        for neighbor in graph[current_node]:\n",
    "            if neighbor not in close_list:\n",
    "                heapq.heappush(open_list,(huristic[neighbor],neighbor))\n",
    "\n",
    "\n",
    "    if goal in close_list:\n",
    "        return close_list\n",
    "    else:\n",
    "        return None\n",
    "    \n",
    "# Start Program execution\n",
    "if __name__ == \"__main__\":\n",
    "    # Define a graph as adacency list\n",
    "\n",
    "    graph = {\n",
    "        'S': ['A', 'B'],\n",
    "        'A': ['C', 'D'],\n",
    "        'B': ['E', 'F'],\n",
    "        'C': [],\n",
    "        'D': [],\n",
    "        'E': ['H'],\n",
    "        'F': ['I', 'G'],\n",
    "        'H': [],\n",
    "        'I': [],\n",
    "        'G': []\n",
    "    }\n",
    "\n",
    "    # Define huristic value of each node\n",
    "\n",
    "    huristic = {\n",
    "        'S': 14,\n",
    "        'A': 12,\n",
    "        'B': 5,\n",
    "        'C': 7,\n",
    "        'D': 3,\n",
    "        'E': 8,\n",
    "        'F': 2,\n",
    "        'H': 4,\n",
    "        'I': 9,\n",
    "        'G': 0\n",
    "    }\n",
    "    start = 'S'\n",
    "    goal = 'G'\n",
    "\n",
    "    path = best_first_search(graph, start, goal, huristic)\n",
    "    print(\"Best-First Search: \", path)"
   ]
  }
 ],
 "metadata": {
  "kernelspec": {
   "display_name": "Python 3",
   "language": "python",
   "name": "python3"
  },
  "language_info": {
   "codemirror_mode": {
    "name": "ipython",
    "version": 3
   },
   "file_extension": ".py",
   "mimetype": "text/x-python",
   "name": "python",
   "nbconvert_exporter": "python",
   "pygments_lexer": "ipython3",
   "version": "3.12.0"
  }
 },
 "nbformat": 4,
 "nbformat_minor": 5
}
