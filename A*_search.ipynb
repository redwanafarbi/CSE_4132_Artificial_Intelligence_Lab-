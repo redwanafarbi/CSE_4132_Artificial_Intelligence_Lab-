{
 "cells": [
  {
   "cell_type": "code",
   "execution_count": 8,
   "id": "56f16850",
   "metadata": {},
   "outputs": [
    {
     "name": "stdout",
     "output_type": "stream",
     "text": [
      "A* search path:  ['S', 'A', 'C', 'G']\n"
     ]
    }
   ],
   "source": [
    "import heapq\n",
    "\n",
    "# define A* dunction\n",
    "\n",
    "def a_star_search(graph, start, goal, huristic):\n",
    "    open_list = []\n",
    "    heapq.heappush(open_list,(huristic[start],start))\n",
    "\n",
    "    close_list = []\n",
    "    g_cost = {node: float('inf') for node in graph}\n",
    "    g_cost[start] = 0\n",
    "\n",
    "    while open_list:\n",
    "        current_huristic, current_node = heapq.heappop(open_list)\n",
    "        close_list.append(current_node)\n",
    "\n",
    "        if current_node == goal:\n",
    "            break\n",
    "\n",
    "        for neighbor, step_cost in graph[current_node]:\n",
    "            if neighbor not in close_list:\n",
    "                temp_g = g_cost[current_node] + step_cost\n",
    "\n",
    "                if temp_g < g_cost[neighbor]:\n",
    "                    g_cost[neighbor] = temp_g\n",
    "                    f_cost = temp_g + huristic[neighbor]\n",
    "                    heapq.heappush(open_list,(f_cost,neighbor))\n",
    "    \n",
    "    if goal in close_list:\n",
    "        return close_list\n",
    "    else:\n",
    "        return None\n",
    "    \n",
    "\n",
    "\n",
    "# Main Function\n",
    "\n",
    "if __name__ == '__main__':\n",
    "\n",
    "    graph = {\n",
    "        'S': [('A',1), ('G',10)],\n",
    "        'A': [('B',2),('C',1)],\n",
    "        'B': [('D',5)],\n",
    "        'C': [('D',3),('G',4)],\n",
    "        'D': [('G',2)],\n",
    "        'G': []\n",
    "    }\n",
    "\n",
    "    huristic = {\n",
    "        'S': 5,\n",
    "        'A': 3,\n",
    "        'B': 4,\n",
    "        'C': 2,\n",
    "        'D': 6,\n",
    "        'G': 0\n",
    "    }\n",
    "\n",
    "    start = 'S'\n",
    "    goal = 'G'\n",
    "\n",
    "    path = a_star_search(graph, start, goal, huristic)\n",
    "    print(\"A* search path: \", path)"
   ]
  }
 ],
 "metadata": {
  "kernelspec": {
   "display_name": "Python 3",
   "language": "python",
   "name": "python3"
  },
  "language_info": {
   "codemirror_mode": {
    "name": "ipython",
    "version": 3
   },
   "file_extension": ".py",
   "mimetype": "text/x-python",
   "name": "python",
   "nbconvert_exporter": "python",
   "pygments_lexer": "ipython3",
   "version": "3.12.0"
  }
 },
 "nbformat": 4,
 "nbformat_minor": 5
}
